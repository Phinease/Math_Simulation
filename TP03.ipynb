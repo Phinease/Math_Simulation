{
 "cells": [
  {
   "cell_type": "markdown",
   "metadata": {},
   "source": [
    "# TP n° 3"
   ]
  },
  {
   "cell_type": "markdown",
   "metadata": {},
   "source": [
    "# Résolution numérique d'un problème de Cauchy avec le schéma d'Euler explicite\n",
    "\n",
    "\n",
    "Nous allons utiliser le schéma d'Euler explicite pour construire une solution approchée d'un problème de Cauchy \n",
    "$$\n",
    "\\left\\lbrace\n",
    "\\begin{aligned}\n",
    "&y'(t) = f(t, y(t)), &&t>0,\\\\\n",
    "&y(0) = y_0.\n",
    "\\end{aligned}\n",
    "\\right.\n",
    "$$\n",
    "\n",
    "Nous commençons par introduire un pas de temps $\\Delta t>0$ et par définir les temps discrets $t^n=n\\Delta t$. La méthode d'Euler explicite est basée sur la formule de récurrence suivante pour calculer $y^n\\simeq y(t^n)$\n",
    "$$\n",
    "\\left\\lbrace\n",
    "\\begin{aligned}\n",
    "&y^{n+1} = y^n + \\Delta t f(t^n, y^n), && n\\geq 0,\\\\\n",
    "&y^0 = y_0.\n",
    "\\end{aligned}\n",
    "\\right.\n",
    "$$"
   ]
  },
  {
   "cell_type": "markdown",
   "metadata": {},
   "source": [
    "#### QUESTION 1\n",
    "\n",
    "Programmer la méthode d'Euler explicite afin de calculer la solution approchée d'un problème de Cauchy scalaire générique."
   ]
  },
  {
   "cell_type": "code",
   "execution_count": null,
   "metadata": {},
   "outputs": [],
   "source": [
    "import numpy as np\n",
    "import matplotlib.pyplot as plt\n",
    "from scipy.integrate import odeint\n",
    "\n",
    "delta_t = 0.5\n",
    "n = range(0,100)\n",
    "N_t = [delta_t*i for i in n]\n"
   ]
  },
  {
   "cell_type": "markdown",
   "metadata": {},
   "source": [
    "#### QUESTION 2\n",
    " \n",
    "Appliquer ce schéma à la résolution numérique du problème de Verhulst.\n",
    "On pourra prendre $\\Delta t=1$, $y_0=0.1$ et résoudre le problème entre $t=0$ et $t=T_f=20$."
   ]
  },
  {
   "cell_type": "markdown",
   "metadata": {},
   "source": [
    "#### QUESTION 3\n",
    "\n",
    "Tracer la solution approchée ainsi que la solution exacte dans une fenêtre graphique. \n",
    "\n",
    "Pour le tracé, choisissez des symboles (un carré et un cercle par exemple) afin de représenter la solution seulement aux points où elle est calculée : l'interpolation linéaire qui est faite ensuite entre les points n'a rien à voir avec la méthode numérique utilisée.\n",
    "\n",
    "Diviser progressivement le pas de temps par deux afin de vérifier que la solution approchée converge bien vers la solution exacte. Superposer les solutions approchées obtenues avec les différents pas de temps et la solution exacte sur un même graphique."
   ]
  }
 ],
 "metadata": {
  "anaconda-cloud": {},
  "celltoolbar": "Format de la Cellule Texte Brut",
  "kernelspec": {
   "display_name": "Python 3",
   "language": "python",
   "name": "python3"
  },
  "language_info": {
   "codemirror_mode": {
    "name": "ipython",
    "version": 3
   },
   "file_extension": ".py",
   "mimetype": "text/x-python",
   "name": "python",
   "nbconvert_exporter": "python",
   "pygments_lexer": "ipython3",
   "version": "3.7.6"
  },
  "latex_envs": {
   "LaTeX_envs_menu_present": true,
   "autocomplete": true,
   "bibliofile": "biblio.bib",
   "cite_by": "apalike",
   "current_citInitial": 1,
   "eqLabelWithNumbers": true,
   "eqNumInitial": 1,
   "hotkeys": {
    "equation": "Ctrl-E",
    "itemize": "Ctrl-I"
   },
   "labels_anchors": true,
   "latex_user_defs": false,
   "report_style_numbering": false,
   "user_envs_cfg": true
  },
  "livereveal": {
   "autolaunch": true,
   "footer": "",
   "header": "<h4>M209 - Dynamique des populations</h4>",
   "scroll": true,
   "theme": "sky",
   "transition": "convex"
  },
  "nbpresent": {
   "slides": {
    "1d19efff-ca23-4411-a28d-0acfe8b0a21f": {
     "id": "1d19efff-ca23-4411-a28d-0acfe8b0a21f",
     "prev": null,
     "regions": {
      "ce0660fc-2126-4fc1-af82-924604c460c9": {
       "attrs": {
        "height": 0.8,
        "width": 0.8,
        "x": 0.1,
        "y": 0.1
       },
       "content": {
        "cell": "91de52c2-c2c7-499f-8a66-d7d7201835fa",
        "part": "whole"
       },
       "id": "ce0660fc-2126-4fc1-af82-924604c460c9"
      }
     }
    },
    "4b687039-6844-41e3-a2b7-e4383f0cd404": {
     "id": "4b687039-6844-41e3-a2b7-e4383f0cd404",
     "prev": "1d19efff-ca23-4411-a28d-0acfe8b0a21f",
     "regions": {
      "4d7e4ca1-0dc1-4baa-aee1-858aded88138": {
       "attrs": {
        "height": 0.8,
        "width": 0.8,
        "x": 0.1,
        "y": 0.1
       },
       "content": {
        "cell": "55aff2bb-bdaa-4c5c-ba2e-bbf4e83f63c7",
        "part": "whole"
       },
       "id": "4d7e4ca1-0dc1-4baa-aee1-858aded88138"
      }
     }
    },
    "795524dc-81d3-4604-8482-a4190b0fa9a8": {
     "id": "795524dc-81d3-4604-8482-a4190b0fa9a8",
     "prev": "a7009650-63e6-4dab-b943-fa2793414400",
     "regions": {
      "1681ba9b-a113-47bd-8b3e-4896d7147602": {
       "attrs": {
        "height": 0.8,
        "width": 0.8,
        "x": 0.1,
        "y": 0.1
       },
       "content": {
        "cell": "282cf50f-1e0c-49a9-bad8-342ec14cae5d",
        "part": "whole"
       },
       "id": "1681ba9b-a113-47bd-8b3e-4896d7147602"
      }
     }
    },
    "a7009650-63e6-4dab-b943-fa2793414400": {
     "id": "a7009650-63e6-4dab-b943-fa2793414400",
     "prev": "4b687039-6844-41e3-a2b7-e4383f0cd404",
     "regions": {
      "93073f47-71b4-407a-aca0-816e24070974": {
       "attrs": {
        "height": 0.8,
        "width": 0.8,
        "x": 0.1,
        "y": 0.1
       },
       "content": {
        "cell": "8d57688c-3605-4554-9273-2652b8f7594b",
        "part": "whole"
       },
       "id": "93073f47-71b4-407a-aca0-816e24070974"
      }
     }
    },
    "a94ea374-e922-483e-9643-233609149bf4": {
     "id": "a94ea374-e922-483e-9643-233609149bf4",
     "prev": "c3e8624c-5445-4710-ad30-3caf4bc545d7",
     "regions": {
      "52169aa9-d0f1-4006-96ed-f75c2fb97aa7": {
       "attrs": {
        "height": 0.8,
        "width": 0.8,
        "x": 0.1,
        "y": 0.1
       },
       "content": {
        "cell": "51d5d06f-0c6e-4356-844d-eeba100ee2d4",
        "part": "whole"
       },
       "id": "52169aa9-d0f1-4006-96ed-f75c2fb97aa7"
      }
     }
    },
    "c3e8624c-5445-4710-ad30-3caf4bc545d7": {
     "id": "c3e8624c-5445-4710-ad30-3caf4bc545d7",
     "prev": "795524dc-81d3-4604-8482-a4190b0fa9a8",
     "regions": {
      "38b9f09d-b6e0-4ae7-a8d4-723e567bd7ec": {
       "attrs": {
        "height": 0.8,
        "width": 0.8,
        "x": 0.1,
        "y": 0.1
       },
       "content": {
        "cell": "ef1d8596-ba87-4d96-9bb1-ba6cef56e3aa",
        "part": "whole"
       },
       "id": "38b9f09d-b6e0-4ae7-a8d4-723e567bd7ec"
      }
     }
    },
    "ca7dee26-42ee-4f31-a1ed-3190d08ac48d": {
     "id": "ca7dee26-42ee-4f31-a1ed-3190d08ac48d",
     "prev": "a94ea374-e922-483e-9643-233609149bf4",
     "regions": {
      "1ab5f88b-0f70-4a57-854f-94e18e52fc1f": {
       "attrs": {
        "height": 0.8,
        "width": 0.8,
        "x": 0.1,
        "y": 0.1
       },
       "content": {
        "cell": "89cc9dc9-641a-42c3-b837-f41662e6d399",
        "part": "whole"
       },
       "id": "1ab5f88b-0f70-4a57-854f-94e18e52fc1f"
      }
     }
    }
   },
   "themes": {
    "default": "132562bd-29cc-4ad2-afd0-604b8efa68b3",
    "theme": {}
   }
  },
  "widgets": {
   "state": {
    "42bfba21ec824ea2abaa4537c857de48": {
     "views": [
      {
       "cell_index": 3
      }
     ]
    },
    "69e2f1e5d30e4d6db5ddbca6d62a747f": {
     "views": [
      {
       "cell_index": 3
      }
     ]
    },
    "d3e34dfcdbcd425d9d10d77fd1c2ae84": {
     "views": [
      {
       "cell_index": 3
      }
     ]
    }
   },
   "version": "1.2.0"
  }
 },
 "nbformat": 4,
 "nbformat_minor": 1
}
