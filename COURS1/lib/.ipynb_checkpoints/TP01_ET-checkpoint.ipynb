{
 "cells": [
  {
   "cell_type": "markdown",
   "metadata": {
    "nbpresent": {
     "id": "91de52c2-c2c7-499f-8a66-d7d7201835fa"
    },
    "slideshow": {
     "slide_type": "slide"
    }
   },
   "source": [
    "FEUILLE DE TP 1\n",
    "\n",
    "# Modèles pour la dynamique des populations"
   ]
  },
  {
   "cell_type": "markdown",
   "metadata": {},
   "source": [
    "Dans ce TP nous nous intéressons à différents modèles continus et discrets pour la dynamique des populations. \n",
    "Nous allons notamment visualiser les solutions pour différents jeux de paramètres et les interpréter."
   ]
  },
  {
   "cell_type": "markdown",
   "metadata": {},
   "source": [
    "Dans un __modèle continu__, on désigne par $N(t)$ la population d'une espèce animale donnée à l'instant $t$. Cette quantité est supposée être une fonction régulière de la variable temps $t$.\n",
    "\n",
    "Dans les modèles continus que nous allons considérer, la loi d'évolution de la population est décrite par une équation différentielle qui exprime une __loi de conservation__ :\n",
    "\n",
    "$$\n",
    "N′(t)= n(t) − d(t) + m(t).\n",
    "$$\n",
    "\n",
    "où\n",
    "* $n(t)$ est le taux de naissances à l'instant $t$ ;\n",
    "* $d(t)$ est le taux de décès à l'instant $t$ ;\n",
    "* $m(t)$ est le taux de migration (arrivées $-$ départs) dans la population à l'instant $t$.\n",
    "\n",
    "Le processus dit de modélisation consiste à donner un sens au second membre de l'équation précédente.\n",
    "\n"
   ]
  },
  {
   "cell_type": "markdown",
   "metadata": {},
   "source": [
    "On obtient alors un __problème de Cauchy__ de la forme\n",
    "\n",
    "$$\n",
    "\\left\\lbrace\n",
    "\\begin{aligned}\n",
    "&y'(t) = f(t, y(t)), &&t>0,\\\\\n",
    "&y(0) = y_0.\n",
    "\\end{aligned}\n",
    "\\right.\n",
    "$$\n",
    "\n",
    "Dans le cas où la fonction $f$ est suffisamment régulière (par exemple $C^1$ et à dérivées bornées), le théorème de \n",
    "_Cauchy-Lipschitz_ assure l'existence et l'unicité de la solution."
   ]
  },
  {
   "cell_type": "markdown",
   "metadata": {
    "slideshow": {
     "slide_type": "fragment"
    }
   },
   "source": [
    "Dans un __modèle en temps discret__, le temps est en général exprimé en nombre de générations ou il décrit un aspect périodique de la loi de reproduction (saisons, années,...). Il peut aussi, dans certains cas, correspondre simplement à une discrétisation du temps continu. \n",
    "\n",
    "On considère une population d'individus notée $N\\in\\mathbb{N}$ (les individus sont indivisibles) qui évolue d'une génération (ou d'une heure, année...) $n$ à $n+1$. L'évolution de la population est donc définie par une suite discrète.\n",
    "\n",
    "La variation du nombre d'individus entre $n$ et $n+1$ peut alors être décomposée sous la forme suivante :\n",
    "\n",
    "$$ N_{n+1} - N_n = n - d + m.$$\n",
    "\n",
    "où\n",
    "* $n$ est le nombre de naissance entre $n$ et $n+1$ ;\n",
    "* $d$ est le nombre de mort entre entre $n$ et $n+1$ ;\n",
    "* $m$ est la différence entre le nombre d'individus qui migrent et ceux qui émigrent dans la population entre $n$ et $n+1$."
   ]
  },
  {
   "cell_type": "code",
   "execution_count": 1,
   "metadata": {
    "slideshow": {
     "slide_type": "-"
    }
   },
   "outputs": [],
   "source": [
    "%matplotlib notebook\n",
    "viewer = 'matplotlib'"
   ]
  },
  {
   "cell_type": "markdown",
   "metadata": {},
   "source": [
    "### Préambule: courbes paramétrées\n",
    "\n",
    "On demande de tracer quelques courbes paramétrées $M(t)=(x(t), y(t))$ et d'indiquer sur le dessin quelques vecteurs vitesse. On pourra commencer par $M(t)=(cos(t), sin(t))$, puis chercher de jolies courbes sur le web.\n",
    "A titre d'exemple, voici un code permettant de tracer la courbe $M(t)=(t^2, t^3-3t)$."
   ]
  },
  {
   "cell_type": "code",
   "execution_count": 2,
   "metadata": {},
   "outputs": [
    {
     "data": {
      "application/javascript": [
       "/* Put everything inside the global mpl namespace */\n",
       "window.mpl = {};\n",
       "\n",
       "\n",
       "mpl.get_websocket_type = function() {\n",
       "    if (typeof(WebSocket) !== 'undefined') {\n",
       "        return WebSocket;\n",
       "    } else if (typeof(MozWebSocket) !== 'undefined') {\n",
       "        return MozWebSocket;\n",
       "    } else {\n",
       "        alert('Your browser does not have WebSocket support. ' +\n",
       "              'Please try Chrome, Safari or Firefox ≥ 6. ' +\n",
       "              'Firefox 4 and 5 are also supported but you ' +\n",
       "              'have to enable WebSockets in about:config.');\n",
       "    };\n",
       "}\n",
       "\n",
       "mpl.figure = function(figure_id, websocket, ondownload, parent_element) {\n",
       "    this.id = figure_id;\n",
       "\n",
       "    this.ws = websocket;\n",
       "\n",
       "    this.supports_binary = (this.ws.binaryType != undefined);\n",
       "\n",
       "    if (!this.supports_binary) {\n",
       "        var warnings = document.getElementById(\"mpl-warnings\");\n",
       "        if (warnings) {\n",
       "            warnings.style.display = 'block';\n",
       "            warnings.textContent = (\n",
       "                \"This browser does not support binary websocket messages. \" +\n",
       "                    \"Performance may be slow.\");\n",
       "        }\n",
       "    }\n",
       "\n",
       "    this.imageObj = new Image();\n",
       "\n",
       "    this.context = undefined;\n",
       "    this.message = undefined;\n",
       "    this.canvas = undefined;\n",
       "    this.rubberband_canvas = undefined;\n",
       "    this.rubberband_context = undefined;\n",
       "    this.format_dropdown = undefined;\n",
       "\n",
       "    this.image_mode = 'full';\n",
       "\n",
       "    this.root = $('<div/>');\n",
       "    this._root_extra_style(this.root)\n",
       "    this.root.attr('style', 'display: inline-block');\n",
       "\n",
       "    $(parent_element).append(this.root);\n",
       "\n",
       "    this._init_header(this);\n",
       "    this._init_canvas(this);\n",
       "    this._init_toolbar(this);\n",
       "\n",
       "    var fig = this;\n",
       "\n",
       "    this.waiting = false;\n",
       "\n",
       "    this.ws.onopen =  function () {\n",
       "            fig.send_message(\"supports_binary\", {value: fig.supports_binary});\n",
       "            fig.send_message(\"send_image_mode\", {});\n",
       "            if (mpl.ratio != 1) {\n",
       "                fig.send_message(\"set_dpi_ratio\", {'dpi_ratio': mpl.ratio});\n",
       "            }\n",
       "            fig.send_message(\"refresh\", {});\n",
       "        }\n",
       "\n",
       "    this.imageObj.onload = function() {\n",
       "            if (fig.image_mode == 'full') {\n",
       "                // Full images could contain transparency (where diff images\n",
       "                // almost always do), so we need to clear the canvas so that\n",
       "                // there is no ghosting.\n",
       "                fig.context.clearRect(0, 0, fig.canvas.width, fig.canvas.height);\n",
       "            }\n",
       "            fig.context.drawImage(fig.imageObj, 0, 0);\n",
       "        };\n",
       "\n",
       "    this.imageObj.onunload = function() {\n",
       "        fig.ws.close();\n",
       "    }\n",
       "\n",
       "    this.ws.onmessage = this._make_on_message_function(this);\n",
       "\n",
       "    this.ondownload = ondownload;\n",
       "}\n",
       "\n",
       "mpl.figure.prototype._init_header = function() {\n",
       "    var titlebar = $(\n",
       "        '<div class=\"ui-dialog-titlebar ui-widget-header ui-corner-all ' +\n",
       "        'ui-helper-clearfix\"/>');\n",
       "    var titletext = $(\n",
       "        '<div class=\"ui-dialog-title\" style=\"width: 100%; ' +\n",
       "        'text-align: center; padding: 3px;\"/>');\n",
       "    titlebar.append(titletext)\n",
       "    this.root.append(titlebar);\n",
       "    this.header = titletext[0];\n",
       "}\n",
       "\n",
       "\n",
       "\n",
       "mpl.figure.prototype._canvas_extra_style = function(canvas_div) {\n",
       "\n",
       "}\n",
       "\n",
       "\n",
       "mpl.figure.prototype._root_extra_style = function(canvas_div) {\n",
       "\n",
       "}\n",
       "\n",
       "mpl.figure.prototype._init_canvas = function() {\n",
       "    var fig = this;\n",
       "\n",
       "    var canvas_div = $('<div/>');\n",
       "\n",
       "    canvas_div.attr('style', 'position: relative; clear: both; outline: 0');\n",
       "\n",
       "    function canvas_keyboard_event(event) {\n",
       "        return fig.key_event(event, event['data']);\n",
       "    }\n",
       "\n",
       "    canvas_div.keydown('key_press', canvas_keyboard_event);\n",
       "    canvas_div.keyup('key_release', canvas_keyboard_event);\n",
       "    this.canvas_div = canvas_div\n",
       "    this._canvas_extra_style(canvas_div)\n",
       "    this.root.append(canvas_div);\n",
       "\n",
       "    var canvas = $('<canvas/>');\n",
       "    canvas.addClass('mpl-canvas');\n",
       "    canvas.attr('style', \"left: 0; top: 0; z-index: 0; outline: 0\")\n",
       "\n",
       "    this.canvas = canvas[0];\n",
       "    this.context = canvas[0].getContext(\"2d\");\n",
       "\n",
       "    var backingStore = this.context.backingStorePixelRatio ||\n",
       "\tthis.context.webkitBackingStorePixelRatio ||\n",
       "\tthis.context.mozBackingStorePixelRatio ||\n",
       "\tthis.context.msBackingStorePixelRatio ||\n",
       "\tthis.context.oBackingStorePixelRatio ||\n",
       "\tthis.context.backingStorePixelRatio || 1;\n",
       "\n",
       "    mpl.ratio = (window.devicePixelRatio || 1) / backingStore;\n",
       "\n",
       "    var rubberband = $('<canvas/>');\n",
       "    rubberband.attr('style', \"position: absolute; left: 0; top: 0; z-index: 1;\")\n",
       "\n",
       "    var pass_mouse_events = true;\n",
       "\n",
       "    canvas_div.resizable({\n",
       "        start: function(event, ui) {\n",
       "            pass_mouse_events = false;\n",
       "        },\n",
       "        resize: function(event, ui) {\n",
       "            fig.request_resize(ui.size.width, ui.size.height);\n",
       "        },\n",
       "        stop: function(event, ui) {\n",
       "            pass_mouse_events = true;\n",
       "            fig.request_resize(ui.size.width, ui.size.height);\n",
       "        },\n",
       "    });\n",
       "\n",
       "    function mouse_event_fn(event) {\n",
       "        if (pass_mouse_events)\n",
       "            return fig.mouse_event(event, event['data']);\n",
       "    }\n",
       "\n",
       "    rubberband.mousedown('button_press', mouse_event_fn);\n",
       "    rubberband.mouseup('button_release', mouse_event_fn);\n",
       "    // Throttle sequential mouse events to 1 every 20ms.\n",
       "    rubberband.mousemove('motion_notify', mouse_event_fn);\n",
       "\n",
       "    rubberband.mouseenter('figure_enter', mouse_event_fn);\n",
       "    rubberband.mouseleave('figure_leave', mouse_event_fn);\n",
       "\n",
       "    canvas_div.on(\"wheel\", function (event) {\n",
       "        event = event.originalEvent;\n",
       "        event['data'] = 'scroll'\n",
       "        if (event.deltaY < 0) {\n",
       "            event.step = 1;\n",
       "        } else {\n",
       "            event.step = -1;\n",
       "        }\n",
       "        mouse_event_fn(event);\n",
       "    });\n",
       "\n",
       "    canvas_div.append(canvas);\n",
       "    canvas_div.append(rubberband);\n",
       "\n",
       "    this.rubberband = rubberband;\n",
       "    this.rubberband_canvas = rubberband[0];\n",
       "    this.rubberband_context = rubberband[0].getContext(\"2d\");\n",
       "    this.rubberband_context.strokeStyle = \"#000000\";\n",
       "\n",
       "    this._resize_canvas = function(width, height) {\n",
       "        // Keep the size of the canvas, canvas container, and rubber band\n",
       "        // canvas in synch.\n",
       "        canvas_div.css('width', width)\n",
       "        canvas_div.css('height', height)\n",
       "\n",
       "        canvas.attr('width', width * mpl.ratio);\n",
       "        canvas.attr('height', height * mpl.ratio);\n",
       "        canvas.attr('style', 'width: ' + width + 'px; height: ' + height + 'px;');\n",
       "\n",
       "        rubberband.attr('width', width);\n",
       "        rubberband.attr('height', height);\n",
       "    }\n",
       "\n",
       "    // Set the figure to an initial 600x600px, this will subsequently be updated\n",
       "    // upon first draw.\n",
       "    this._resize_canvas(600, 600);\n",
       "\n",
       "    // Disable right mouse context menu.\n",
       "    $(this.rubberband_canvas).bind(\"contextmenu\",function(e){\n",
       "        return false;\n",
       "    });\n",
       "\n",
       "    function set_focus () {\n",
       "        canvas.focus();\n",
       "        canvas_div.focus();\n",
       "    }\n",
       "\n",
       "    window.setTimeout(set_focus, 100);\n",
       "}\n",
       "\n",
       "mpl.figure.prototype._init_toolbar = function() {\n",
       "    var fig = this;\n",
       "\n",
       "    var nav_element = $('<div/>');\n",
       "    nav_element.attr('style', 'width: 100%');\n",
       "    this.root.append(nav_element);\n",
       "\n",
       "    // Define a callback function for later on.\n",
       "    function toolbar_event(event) {\n",
       "        return fig.toolbar_button_onclick(event['data']);\n",
       "    }\n",
       "    function toolbar_mouse_event(event) {\n",
       "        return fig.toolbar_button_onmouseover(event['data']);\n",
       "    }\n",
       "\n",
       "    for(var toolbar_ind in mpl.toolbar_items) {\n",
       "        var name = mpl.toolbar_items[toolbar_ind][0];\n",
       "        var tooltip = mpl.toolbar_items[toolbar_ind][1];\n",
       "        var image = mpl.toolbar_items[toolbar_ind][2];\n",
       "        var method_name = mpl.toolbar_items[toolbar_ind][3];\n",
       "\n",
       "        if (!name) {\n",
       "            // put a spacer in here.\n",
       "            continue;\n",
       "        }\n",
       "        var button = $('<button/>');\n",
       "        button.addClass('ui-button ui-widget ui-state-default ui-corner-all ' +\n",
       "                        'ui-button-icon-only');\n",
       "        button.attr('role', 'button');\n",
       "        button.attr('aria-disabled', 'false');\n",
       "        button.click(method_name, toolbar_event);\n",
       "        button.mouseover(tooltip, toolbar_mouse_event);\n",
       "\n",
       "        var icon_img = $('<span/>');\n",
       "        icon_img.addClass('ui-button-icon-primary ui-icon');\n",
       "        icon_img.addClass(image);\n",
       "        icon_img.addClass('ui-corner-all');\n",
       "\n",
       "        var tooltip_span = $('<span/>');\n",
       "        tooltip_span.addClass('ui-button-text');\n",
       "        tooltip_span.html(tooltip);\n",
       "\n",
       "        button.append(icon_img);\n",
       "        button.append(tooltip_span);\n",
       "\n",
       "        nav_element.append(button);\n",
       "    }\n",
       "\n",
       "    var fmt_picker_span = $('<span/>');\n",
       "\n",
       "    var fmt_picker = $('<select/>');\n",
       "    fmt_picker.addClass('mpl-toolbar-option ui-widget ui-widget-content');\n",
       "    fmt_picker_span.append(fmt_picker);\n",
       "    nav_element.append(fmt_picker_span);\n",
       "    this.format_dropdown = fmt_picker[0];\n",
       "\n",
       "    for (var ind in mpl.extensions) {\n",
       "        var fmt = mpl.extensions[ind];\n",
       "        var option = $(\n",
       "            '<option/>', {selected: fmt === mpl.default_extension}).html(fmt);\n",
       "        fmt_picker.append(option);\n",
       "    }\n",
       "\n",
       "    // Add hover states to the ui-buttons\n",
       "    $( \".ui-button\" ).hover(\n",
       "        function() { $(this).addClass(\"ui-state-hover\");},\n",
       "        function() { $(this).removeClass(\"ui-state-hover\");}\n",
       "    );\n",
       "\n",
       "    var status_bar = $('<span class=\"mpl-message\"/>');\n",
       "    nav_element.append(status_bar);\n",
       "    this.message = status_bar[0];\n",
       "}\n",
       "\n",
       "mpl.figure.prototype.request_resize = function(x_pixels, y_pixels) {\n",
       "    // Request matplotlib to resize the figure. Matplotlib will then trigger a resize in the client,\n",
       "    // which will in turn request a refresh of the image.\n",
       "    this.send_message('resize', {'width': x_pixels, 'height': y_pixels});\n",
       "}\n",
       "\n",
       "mpl.figure.prototype.send_message = function(type, properties) {\n",
       "    properties['type'] = type;\n",
       "    properties['figure_id'] = this.id;\n",
       "    this.ws.send(JSON.stringify(properties));\n",
       "}\n",
       "\n",
       "mpl.figure.prototype.send_draw_message = function() {\n",
       "    if (!this.waiting) {\n",
       "        this.waiting = true;\n",
       "        this.ws.send(JSON.stringify({type: \"draw\", figure_id: this.id}));\n",
       "    }\n",
       "}\n",
       "\n",
       "\n",
       "mpl.figure.prototype.handle_save = function(fig, msg) {\n",
       "    var format_dropdown = fig.format_dropdown;\n",
       "    var format = format_dropdown.options[format_dropdown.selectedIndex].value;\n",
       "    fig.ondownload(fig, format);\n",
       "}\n",
       "\n",
       "\n",
       "mpl.figure.prototype.handle_resize = function(fig, msg) {\n",
       "    var size = msg['size'];\n",
       "    if (size[0] != fig.canvas.width || size[1] != fig.canvas.height) {\n",
       "        fig._resize_canvas(size[0], size[1]);\n",
       "        fig.send_message(\"refresh\", {});\n",
       "    };\n",
       "}\n",
       "\n",
       "mpl.figure.prototype.handle_rubberband = function(fig, msg) {\n",
       "    var x0 = msg['x0'] / mpl.ratio;\n",
       "    var y0 = (fig.canvas.height - msg['y0']) / mpl.ratio;\n",
       "    var x1 = msg['x1'] / mpl.ratio;\n",
       "    var y1 = (fig.canvas.height - msg['y1']) / mpl.ratio;\n",
       "    x0 = Math.floor(x0) + 0.5;\n",
       "    y0 = Math.floor(y0) + 0.5;\n",
       "    x1 = Math.floor(x1) + 0.5;\n",
       "    y1 = Math.floor(y1) + 0.5;\n",
       "    var min_x = Math.min(x0, x1);\n",
       "    var min_y = Math.min(y0, y1);\n",
       "    var width = Math.abs(x1 - x0);\n",
       "    var height = Math.abs(y1 - y0);\n",
       "\n",
       "    fig.rubberband_context.clearRect(\n",
       "        0, 0, fig.canvas.width / mpl.ratio, fig.canvas.height / mpl.ratio);\n",
       "\n",
       "    fig.rubberband_context.strokeRect(min_x, min_y, width, height);\n",
       "}\n",
       "\n",
       "mpl.figure.prototype.handle_figure_label = function(fig, msg) {\n",
       "    // Updates the figure title.\n",
       "    fig.header.textContent = msg['label'];\n",
       "}\n",
       "\n",
       "mpl.figure.prototype.handle_cursor = function(fig, msg) {\n",
       "    var cursor = msg['cursor'];\n",
       "    switch(cursor)\n",
       "    {\n",
       "    case 0:\n",
       "        cursor = 'pointer';\n",
       "        break;\n",
       "    case 1:\n",
       "        cursor = 'default';\n",
       "        break;\n",
       "    case 2:\n",
       "        cursor = 'crosshair';\n",
       "        break;\n",
       "    case 3:\n",
       "        cursor = 'move';\n",
       "        break;\n",
       "    }\n",
       "    fig.rubberband_canvas.style.cursor = cursor;\n",
       "}\n",
       "\n",
       "mpl.figure.prototype.handle_message = function(fig, msg) {\n",
       "    fig.message.textContent = msg['message'];\n",
       "}\n",
       "\n",
       "mpl.figure.prototype.handle_draw = function(fig, msg) {\n",
       "    // Request the server to send over a new figure.\n",
       "    fig.send_draw_message();\n",
       "}\n",
       "\n",
       "mpl.figure.prototype.handle_image_mode = function(fig, msg) {\n",
       "    fig.image_mode = msg['mode'];\n",
       "}\n",
       "\n",
       "mpl.figure.prototype.updated_canvas_event = function() {\n",
       "    // Called whenever the canvas gets updated.\n",
       "    this.send_message(\"ack\", {});\n",
       "}\n",
       "\n",
       "// A function to construct a web socket function for onmessage handling.\n",
       "// Called in the figure constructor.\n",
       "mpl.figure.prototype._make_on_message_function = function(fig) {\n",
       "    return function socket_on_message(evt) {\n",
       "        if (evt.data instanceof Blob) {\n",
       "            /* FIXME: We get \"Resource interpreted as Image but\n",
       "             * transferred with MIME type text/plain:\" errors on\n",
       "             * Chrome.  But how to set the MIME type?  It doesn't seem\n",
       "             * to be part of the websocket stream */\n",
       "            evt.data.type = \"image/png\";\n",
       "\n",
       "            /* Free the memory for the previous frames */\n",
       "            if (fig.imageObj.src) {\n",
       "                (window.URL || window.webkitURL).revokeObjectURL(\n",
       "                    fig.imageObj.src);\n",
       "            }\n",
       "\n",
       "            fig.imageObj.src = (window.URL || window.webkitURL).createObjectURL(\n",
       "                evt.data);\n",
       "            fig.updated_canvas_event();\n",
       "            fig.waiting = false;\n",
       "            return;\n",
       "        }\n",
       "        else if (typeof evt.data === 'string' && evt.data.slice(0, 21) == \"data:image/png;base64\") {\n",
       "            fig.imageObj.src = evt.data;\n",
       "            fig.updated_canvas_event();\n",
       "            fig.waiting = false;\n",
       "            return;\n",
       "        }\n",
       "\n",
       "        var msg = JSON.parse(evt.data);\n",
       "        var msg_type = msg['type'];\n",
       "\n",
       "        // Call the  \"handle_{type}\" callback, which takes\n",
       "        // the figure and JSON message as its only arguments.\n",
       "        try {\n",
       "            var callback = fig[\"handle_\" + msg_type];\n",
       "        } catch (e) {\n",
       "            console.log(\"No handler for the '\" + msg_type + \"' message type: \", msg);\n",
       "            return;\n",
       "        }\n",
       "\n",
       "        if (callback) {\n",
       "            try {\n",
       "                // console.log(\"Handling '\" + msg_type + \"' message: \", msg);\n",
       "                callback(fig, msg);\n",
       "            } catch (e) {\n",
       "                console.log(\"Exception inside the 'handler_\" + msg_type + \"' callback:\", e, e.stack, msg);\n",
       "            }\n",
       "        }\n",
       "    };\n",
       "}\n",
       "\n",
       "// from http://stackoverflow.com/questions/1114465/getting-mouse-location-in-canvas\n",
       "mpl.findpos = function(e) {\n",
       "    //this section is from http://www.quirksmode.org/js/events_properties.html\n",
       "    var targ;\n",
       "    if (!e)\n",
       "        e = window.event;\n",
       "    if (e.target)\n",
       "        targ = e.target;\n",
       "    else if (e.srcElement)\n",
       "        targ = e.srcElement;\n",
       "    if (targ.nodeType == 3) // defeat Safari bug\n",
       "        targ = targ.parentNode;\n",
       "\n",
       "    // jQuery normalizes the pageX and pageY\n",
       "    // pageX,Y are the mouse positions relative to the document\n",
       "    // offset() returns the position of the element relative to the document\n",
       "    var x = e.pageX - $(targ).offset().left;\n",
       "    var y = e.pageY - $(targ).offset().top;\n",
       "\n",
       "    return {\"x\": x, \"y\": y};\n",
       "};\n",
       "\n",
       "/*\n",
       " * return a copy of an object with only non-object keys\n",
       " * we need this to avoid circular references\n",
       " * http://stackoverflow.com/a/24161582/3208463\n",
       " */\n",
       "function simpleKeys (original) {\n",
       "  return Object.keys(original).reduce(function (obj, key) {\n",
       "    if (typeof original[key] !== 'object')\n",
       "        obj[key] = original[key]\n",
       "    return obj;\n",
       "  }, {});\n",
       "}\n",
       "\n",
       "mpl.figure.prototype.mouse_event = function(event, name) {\n",
       "    var canvas_pos = mpl.findpos(event)\n",
       "\n",
       "    if (name === 'button_press')\n",
       "    {\n",
       "        this.canvas.focus();\n",
       "        this.canvas_div.focus();\n",
       "    }\n",
       "\n",
       "    var x = canvas_pos.x * mpl.ratio;\n",
       "    var y = canvas_pos.y * mpl.ratio;\n",
       "\n",
       "    this.send_message(name, {x: x, y: y, button: event.button,\n",
       "                             step: event.step,\n",
       "                             guiEvent: simpleKeys(event)});\n",
       "\n",
       "    /* This prevents the web browser from automatically changing to\n",
       "     * the text insertion cursor when the button is pressed.  We want\n",
       "     * to control all of the cursor setting manually through the\n",
       "     * 'cursor' event from matplotlib */\n",
       "    event.preventDefault();\n",
       "    return false;\n",
       "}\n",
       "\n",
       "mpl.figure.prototype._key_event_extra = function(event, name) {\n",
       "    // Handle any extra behaviour associated with a key event\n",
       "}\n",
       "\n",
       "mpl.figure.prototype.key_event = function(event, name) {\n",
       "\n",
       "    // Prevent repeat events\n",
       "    if (name == 'key_press')\n",
       "    {\n",
       "        if (event.which === this._key)\n",
       "            return;\n",
       "        else\n",
       "            this._key = event.which;\n",
       "    }\n",
       "    if (name == 'key_release')\n",
       "        this._key = null;\n",
       "\n",
       "    var value = '';\n",
       "    if (event.ctrlKey && event.which != 17)\n",
       "        value += \"ctrl+\";\n",
       "    if (event.altKey && event.which != 18)\n",
       "        value += \"alt+\";\n",
       "    if (event.shiftKey && event.which != 16)\n",
       "        value += \"shift+\";\n",
       "\n",
       "    value += 'k';\n",
       "    value += event.which.toString();\n",
       "\n",
       "    this._key_event_extra(event, name);\n",
       "\n",
       "    this.send_message(name, {key: value,\n",
       "                             guiEvent: simpleKeys(event)});\n",
       "    return false;\n",
       "}\n",
       "\n",
       "mpl.figure.prototype.toolbar_button_onclick = function(name) {\n",
       "    if (name == 'download') {\n",
       "        this.handle_save(this, null);\n",
       "    } else {\n",
       "        this.send_message(\"toolbar_button\", {name: name});\n",
       "    }\n",
       "};\n",
       "\n",
       "mpl.figure.prototype.toolbar_button_onmouseover = function(tooltip) {\n",
       "    this.message.textContent = tooltip;\n",
       "};\n",
       "mpl.toolbar_items = [[\"Home\", \"Reset original view\", \"fa fa-home icon-home\", \"home\"], [\"Back\", \"Back to previous view\", \"fa fa-arrow-left icon-arrow-left\", \"back\"], [\"Forward\", \"Forward to next view\", \"fa fa-arrow-right icon-arrow-right\", \"forward\"], [\"\", \"\", \"\", \"\"], [\"Pan\", \"Pan axes with left mouse, zoom with right\", \"fa fa-arrows icon-move\", \"pan\"], [\"Zoom\", \"Zoom to rectangle\", \"fa fa-square-o icon-check-empty\", \"zoom\"], [\"\", \"\", \"\", \"\"], [\"Download\", \"Download plot\", \"fa fa-floppy-o icon-save\", \"download\"]];\n",
       "\n",
       "mpl.extensions = [\"eps\", \"pdf\", \"png\", \"ps\", \"raw\", \"svg\"];\n",
       "\n",
       "mpl.default_extension = \"png\";var comm_websocket_adapter = function(comm) {\n",
       "    // Create a \"websocket\"-like object which calls the given IPython comm\n",
       "    // object with the appropriate methods. Currently this is a non binary\n",
       "    // socket, so there is still some room for performance tuning.\n",
       "    var ws = {};\n",
       "\n",
       "    ws.close = function() {\n",
       "        comm.close()\n",
       "    };\n",
       "    ws.send = function(m) {\n",
       "        //console.log('sending', m);\n",
       "        comm.send(m);\n",
       "    };\n",
       "    // Register the callback with on_msg.\n",
       "    comm.on_msg(function(msg) {\n",
       "        //console.log('receiving', msg['content']['data'], msg);\n",
       "        // Pass the mpl event to the overridden (by mpl) onmessage function.\n",
       "        ws.onmessage(msg['content']['data'])\n",
       "    });\n",
       "    return ws;\n",
       "}\n",
       "\n",
       "mpl.mpl_figure_comm = function(comm, msg) {\n",
       "    // This is the function which gets called when the mpl process\n",
       "    // starts-up an IPython Comm through the \"matplotlib\" channel.\n",
       "\n",
       "    var id = msg.content.data.id;\n",
       "    // Get hold of the div created by the display call when the Comm\n",
       "    // socket was opened in Python.\n",
       "    var element = $(\"#\" + id);\n",
       "    var ws_proxy = comm_websocket_adapter(comm)\n",
       "\n",
       "    function ondownload(figure, format) {\n",
       "        window.open(figure.imageObj.src);\n",
       "    }\n",
       "\n",
       "    var fig = new mpl.figure(id, ws_proxy,\n",
       "                           ondownload,\n",
       "                           element.get(0));\n",
       "\n",
       "    // Call onopen now - mpl needs it, as it is assuming we've passed it a real\n",
       "    // web socket which is closed, not our websocket->open comm proxy.\n",
       "    ws_proxy.onopen();\n",
       "\n",
       "    fig.parent_element = element.get(0);\n",
       "    fig.cell_info = mpl.find_output_cell(\"<div id='\" + id + \"'></div>\");\n",
       "    if (!fig.cell_info) {\n",
       "        console.error(\"Failed to find cell for figure\", id, fig);\n",
       "        return;\n",
       "    }\n",
       "\n",
       "    var output_index = fig.cell_info[2]\n",
       "    var cell = fig.cell_info[0];\n",
       "\n",
       "};\n",
       "\n",
       "mpl.figure.prototype.handle_close = function(fig, msg) {\n",
       "    var width = fig.canvas.width/mpl.ratio\n",
       "    fig.root.unbind('remove')\n",
       "\n",
       "    // Update the output cell to use the data from the current canvas.\n",
       "    fig.push_to_output();\n",
       "    var dataURL = fig.canvas.toDataURL();\n",
       "    // Re-enable the keyboard manager in IPython - without this line, in FF,\n",
       "    // the notebook keyboard shortcuts fail.\n",
       "    IPython.keyboard_manager.enable()\n",
       "    $(fig.parent_element).html('<img src=\"' + dataURL + '\" width=\"' + width + '\">');\n",
       "    fig.close_ws(fig, msg);\n",
       "}\n",
       "\n",
       "mpl.figure.prototype.close_ws = function(fig, msg){\n",
       "    fig.send_message('closing', msg);\n",
       "    // fig.ws.close()\n",
       "}\n",
       "\n",
       "mpl.figure.prototype.push_to_output = function(remove_interactive) {\n",
       "    // Turn the data on the canvas into data in the output cell.\n",
       "    var width = this.canvas.width/mpl.ratio\n",
       "    var dataURL = this.canvas.toDataURL();\n",
       "    this.cell_info[1]['text/html'] = '<img src=\"' + dataURL + '\" width=\"' + width + '\">';\n",
       "}\n",
       "\n",
       "mpl.figure.prototype.updated_canvas_event = function() {\n",
       "    // Tell IPython that the notebook contents must change.\n",
       "    IPython.notebook.set_dirty(true);\n",
       "    this.send_message(\"ack\", {});\n",
       "    var fig = this;\n",
       "    // Wait a second, then push the new image to the DOM so\n",
       "    // that it is saved nicely (might be nice to debounce this).\n",
       "    setTimeout(function () { fig.push_to_output() }, 1000);\n",
       "}\n",
       "\n",
       "mpl.figure.prototype._init_toolbar = function() {\n",
       "    var fig = this;\n",
       "\n",
       "    var nav_element = $('<div/>');\n",
       "    nav_element.attr('style', 'width: 100%');\n",
       "    this.root.append(nav_element);\n",
       "\n",
       "    // Define a callback function for later on.\n",
       "    function toolbar_event(event) {\n",
       "        return fig.toolbar_button_onclick(event['data']);\n",
       "    }\n",
       "    function toolbar_mouse_event(event) {\n",
       "        return fig.toolbar_button_onmouseover(event['data']);\n",
       "    }\n",
       "\n",
       "    for(var toolbar_ind in mpl.toolbar_items){\n",
       "        var name = mpl.toolbar_items[toolbar_ind][0];\n",
       "        var tooltip = mpl.toolbar_items[toolbar_ind][1];\n",
       "        var image = mpl.toolbar_items[toolbar_ind][2];\n",
       "        var method_name = mpl.toolbar_items[toolbar_ind][3];\n",
       "\n",
       "        if (!name) { continue; };\n",
       "\n",
       "        var button = $('<button class=\"btn btn-default\" href=\"#\" title=\"' + name + '\"><i class=\"fa ' + image + ' fa-lg\"></i></button>');\n",
       "        button.click(method_name, toolbar_event);\n",
       "        button.mouseover(tooltip, toolbar_mouse_event);\n",
       "        nav_element.append(button);\n",
       "    }\n",
       "\n",
       "    // Add the status bar.\n",
       "    var status_bar = $('<span class=\"mpl-message\" style=\"text-align:right; float: right;\"/>');\n",
       "    nav_element.append(status_bar);\n",
       "    this.message = status_bar[0];\n",
       "\n",
       "    // Add the close button to the window.\n",
       "    var buttongrp = $('<div class=\"btn-group inline pull-right\"></div>');\n",
       "    var button = $('<button class=\"btn btn-mini btn-primary\" href=\"#\" title=\"Stop Interaction\"><i class=\"fa fa-power-off icon-remove icon-large\"></i></button>');\n",
       "    button.click(function (evt) { fig.handle_close(fig, {}); } );\n",
       "    button.mouseover('Stop Interaction', toolbar_mouse_event);\n",
       "    buttongrp.append(button);\n",
       "    var titlebar = this.root.find($('.ui-dialog-titlebar'));\n",
       "    titlebar.prepend(buttongrp);\n",
       "}\n",
       "\n",
       "mpl.figure.prototype._root_extra_style = function(el){\n",
       "    var fig = this\n",
       "    el.on(\"remove\", function(){\n",
       "\tfig.close_ws(fig, {});\n",
       "    });\n",
       "}\n",
       "\n",
       "mpl.figure.prototype._canvas_extra_style = function(el){\n",
       "    // this is important to make the div 'focusable\n",
       "    el.attr('tabindex', 0)\n",
       "    // reach out to IPython and tell the keyboard manager to turn it's self\n",
       "    // off when our div gets focus\n",
       "\n",
       "    // location in version 3\n",
       "    if (IPython.notebook.keyboard_manager) {\n",
       "        IPython.notebook.keyboard_manager.register_events(el);\n",
       "    }\n",
       "    else {\n",
       "        // location in version 2\n",
       "        IPython.keyboard_manager.register_events(el);\n",
       "    }\n",
       "\n",
       "}\n",
       "\n",
       "mpl.figure.prototype._key_event_extra = function(event, name) {\n",
       "    var manager = IPython.notebook.keyboard_manager;\n",
       "    if (!manager)\n",
       "        manager = IPython.keyboard_manager;\n",
       "\n",
       "    // Check for shift+enter\n",
       "    if (event.shiftKey && event.which == 13) {\n",
       "        this.canvas_div.blur();\n",
       "        // select the cell after this one\n",
       "        var index = IPython.notebook.find_cell_index(this.cell_info[0]);\n",
       "        IPython.notebook.select(index + 1);\n",
       "    }\n",
       "}\n",
       "\n",
       "mpl.figure.prototype.handle_save = function(fig, msg) {\n",
       "    fig.ondownload(fig, null);\n",
       "}\n",
       "\n",
       "\n",
       "mpl.find_output_cell = function(html_output) {\n",
       "    // Return the cell and output element which can be found *uniquely* in the notebook.\n",
       "    // Note - this is a bit hacky, but it is done because the \"notebook_saving.Notebook\"\n",
       "    // IPython event is triggered only after the cells have been serialised, which for\n",
       "    // our purposes (turning an active figure into a static one), is too late.\n",
       "    var cells = IPython.notebook.get_cells();\n",
       "    var ncells = cells.length;\n",
       "    for (var i=0; i<ncells; i++) {\n",
       "        var cell = cells[i];\n",
       "        if (cell.cell_type === 'code'){\n",
       "            for (var j=0; j<cell.output_area.outputs.length; j++) {\n",
       "                var data = cell.output_area.outputs[j];\n",
       "                if (data.data) {\n",
       "                    // IPython >= 3 moved mimebundle to data attribute of output\n",
       "                    data = data.data;\n",
       "                }\n",
       "                if (data['text/html'] == html_output) {\n",
       "                    return [cell, data, j];\n",
       "                }\n",
       "            }\n",
       "        }\n",
       "    }\n",
       "}\n",
       "\n",
       "// Register the function which deals with the matplotlib target/channel.\n",
       "// The kernel may be null if the page has been refreshed.\n",
       "if (IPython.notebook.kernel != null) {\n",
       "    IPython.notebook.kernel.comm_manager.register_target('matplotlib', mpl.mpl_figure_comm);\n",
       "}\n"
      ],
      "text/plain": [
       "<IPython.core.display.Javascript object>"
      ]
     },
     "metadata": {},
     "output_type": "display_data"
    },
    {
     "data": {
      "text/html": [
       "<img src=\"data:image/png;base64,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\" width=\"640\">"
      ],
      "text/plain": [
       "<IPython.core.display.HTML object>"
      ]
     },
     "metadata": {},
     "output_type": "display_data"
    }
   ],
   "source": [
    "import numpy as np\n",
    "from matplotlib import pyplot as plt\n",
    "\n",
    "fig, ax = plt.subplots()\n",
    "\n",
    "ax.spines['top'].set_color('none')\n",
    "ax.spines['right'].set_color('none')\n",
    "ax.spines['bottom'].set_position(('data', 0))\n",
    "ax.spines['left'].set_position(('data', 0))\n",
    "\n",
    "\n",
    "t = np.linspace(-3, 3, 100)\n",
    "\n",
    "def x(t):\n",
    "    return t**2\n",
    "\n",
    "def y(t):\n",
    "    return t**3 - 3 * t\n",
    "\n",
    "ax.set_xlim(-1, 6)\n",
    "ax.set_ylim(-3, 3)\n",
    "ax.yaxis.set_ticks_position('left')\n",
    "ax.xaxis.set_ticks_position('bottom')\n",
    "ax.plot(x(t), y(t), linewidth=1.5)\n",
    "\n",
    "A = [x(-1), y(-1)]\n",
    "\n",
    "ax.scatter(A[0], A[1], 50, color='red')\n",
    "\n",
    "ax.annotate(\n",
    "    r'$M(-1)$',\n",
    "    xy=(1, 2),\n",
    "    xycoords='data',\n",
    "    xytext=(1, 2.2),\n",
    "    color='blue',\n",
    ")\n",
    "\n",
    "ax.annotate(\n",
    "    'M\\'(-1)',\n",
    "    xy=(.3, 2),\n",
    "    xycoords='data',\n",
    "    xytext=(.3, 2.1),\n",
    "    color='red',\n",
    ")\n",
    "\n",
    "ax.arrow(1, 2, -1, 0, color='red', width=0.05)\n",
    "\n",
    "plt.show()\n"
   ]
  },
  {
   "cell_type": "markdown",
   "metadata": {
    "nbpresent": {
     "id": "282cf50f-1e0c-49a9-bad8-342ec14cae5d"
    },
    "slideshow": {
     "slide_type": "subslide"
    }
   },
   "source": [
    "### Le modèle de Malthus\n",
    "\n",
    "<table style=\"width:100%\">\n",
    "    <tr>\n",
    "        <td style=\"text-align:justify\">\n",
    "            Thomas-Robert Malthus_ est né le 14 Février 1766 à Roockery, petit village du Sud-est de l'Angleterre, dans le comté de Surrey.\n",
    "            <br>\n",
    "            Après des études primaires mouvementées et sept années passées au Jésus Collège de Cambridge, Thomas-Robert Malthus obtient le diplôme de « Master of Arts ». Il reste encore trois ans dans son institution, comme professeur. C'est à ce moment qu'il envisage d'embrasser la carrière ecclésiastique. En 1796, âgé de trente ans, il entre dans l'Église anglicane et est nommé vicaire d'Albury, petite paroisse du Surrey, toute proche de la maison paternelle.\n",
    "            <br>\n",
    "            Un jour de 1798, enfin, à la suite d'une discussion animée avec son père - homme enthousiaste et fumeux, admirateur des philosophes utopistes et infiniment plus illuminé que son fils - il prend la plume: en quelques jours, tout d'une traite, il couche sur le papier la théorie originale qui constitue sa grande contribution à l'histoire des idées sociales: _l'absence de parallélisme entre l'accroissement spontané des espèces vivantes et les moyens de subsistance, l'équilibre ne pouvant être maintenu que par le jeu constant de la concurrence vitale et des actions de mort_ :\n",
    "            <br>\n",
    "            « Dans le règne végétal et dans le règne animal, la nature a répandu d'une main libérale, prodigue, les germes de vie. Mais, en comparaison, elle a été avare de place et de nourriture. S'ils avaient assez d'aliments et de surface pour se développer librement, les germes d'existence contenus dans notre petit bout de terre suffiraient pour remplir des millions de mondes en l'espace de seulement quelques milliers d'années. Mais la Nécessité, cette loi impérieuse et tyrannique de la nature, les cantonne dans les bornes prescrites. Le règne végétal et le règne animal doivent se restreindre pour ne pas excéder ces limites. Même la race humaine, malgré tous les efforts de sa Raison, ne peut échapper à cette loi. Dans le monde des végétaux et des animaux, celle-ci agit en gaspillant les germes et en répandant la maladie et la mort prématurée: chez l'homme, elle agit par la misère et par le vice ».\n",
    "        </td>\n",
    "        <td width=\"25%\">\n",
    "            <img src=\"images/Thomas_Malthus.jpg\", width='100%'>\n",
    "        </td>\n",
    "    </tr>\n",
    "</table>  "
   ]
  },
  {
   "cell_type": "markdown",
   "metadata": {
    "slideshow": {
     "slide_type": "subslide"
    }
   },
   "source": [
    "#### Description du modèle de Malthus\n",
    "\n",
    "Le __modèle de Malthus__ stipule qu'il n'y a pas de migration et que les naissances ainsi que les décès sont proportionnels à la valeur de la population à l'instant considéré.\n",
    "On écrit alors l'équation sous la forme\n",
    "\n",
    "$$ N'(t) = \\lambda N(t) - \\mu N(t) = rN(t),$$\n",
    "\n",
    "où $\\lambda$ et $\\mu$ désignent deux constantes réelles positives, le taux de naissances et le taux de décès par individu, et $r=\\lambda - \\mu$. \n",
    "\n",
    "Cette équation différentielle peut être associée à une donnée initiale $N(0)=N_0$."
   ]
  },
  {
   "cell_type": "markdown",
   "metadata": {},
   "source": [
    "La solution du problème de Cauchy associé est simple : \n",
    "\n",
    "$$ N(t) = N_0 \\text{e}^{r t}, \\qquad t\\geq0.$$\n",
    "\n",
    "Le __modèle de Malthus__ peut être vu comme une limite du __modèle de croissance exponentielle__ \n",
    "lorsque le pas de temps $\\Delta t$ tend vers $0$. Nous essayerons dans ce cours de définir les \n",
    "notions nécessaires à la démonstration et à la compréhension de ce résultat."
   ]
  },
  {
   "cell_type": "markdown",
   "metadata": {
    "slideshow": {
     "slide_type": "subslide"
    }
   },
   "source": [
    "#### Représentation de la solution du modèle de Malthus"
   ]
  },
  {
   "cell_type": "code",
   "execution_count": 4,
   "metadata": {
    "nbpresent": {
     "id": "ef1d8596-ba87-4d96-9bb1-ba6cef56e3aa"
    },
    "scrolled": false,
    "slideshow": {
     "slide_type": "-"
    }
   },
   "outputs": [
    {
     "ename": "ValueError",
     "evalue": "attempted relative import beyond top-level package",
     "output_type": "error",
     "traceback": [
      "\u001b[0;31m---------------------------------------------------------------------------\u001b[0m",
      "\u001b[0;31mValueError\u001b[0m                                Traceback (most recent call last)",
      "\u001b[0;32m<ipython-input-4-20249dfad330>\u001b[0m in \u001b[0;36m<module>\u001b[0;34m\u001b[0m\n\u001b[0;32m----> 1\u001b[0;31m \u001b[0;32mfrom\u001b[0m \u001b[0mdynamique_des_populations\u001b[0m \u001b[0;32mimport\u001b[0m \u001b[0mMalthus\u001b[0m\u001b[0;34m\u001b[0m\u001b[0;34m\u001b[0m\u001b[0m\n\u001b[0m\u001b[1;32m      2\u001b[0m \u001b[0mMalthus\u001b[0m\u001b[0;34m.\u001b[0m\u001b[0minteractive_plot\u001b[0m\u001b[0;34m(\u001b[0m\u001b[0mviewer\u001b[0m \u001b[0;34m=\u001b[0m \u001b[0mviewer\u001b[0m\u001b[0;34m)\u001b[0m\u001b[0;34m\u001b[0m\u001b[0;34m\u001b[0m\u001b[0m\n",
      "\u001b[0;32m~/PycharmProjects/TD_209/COURS1/lib/dynamique_des_populations/Malthus.py\u001b[0m in \u001b[0;36m<module>\u001b[0;34m\u001b[0m\n\u001b[1;32m      1\u001b[0m \u001b[0;32mimport\u001b[0m \u001b[0mnumpy\u001b[0m \u001b[0;32mas\u001b[0m \u001b[0mnp\u001b[0m\u001b[0;34m\u001b[0m\u001b[0;34m\u001b[0m\u001b[0m\n\u001b[0;32m----> 2\u001b[0;31m \u001b[0;32mfrom\u001b[0m \u001b[0;34m.\u001b[0m\u001b[0;34m.\u001b[0m \u001b[0;32mimport\u001b[0m \u001b[0mviewers\u001b[0m\u001b[0;34m\u001b[0m\u001b[0;34m\u001b[0m\u001b[0m\n\u001b[0m\u001b[1;32m      3\u001b[0m \u001b[0;32mfrom\u001b[0m \u001b[0;34m.\u001b[0m\u001b[0;34m.\u001b[0m \u001b[0;32mimport\u001b[0m \u001b[0mpyWiGL\u001b[0m\u001b[0;34m\u001b[0m\u001b[0;34m\u001b[0m\u001b[0m\n\u001b[1;32m      4\u001b[0m \u001b[0;34m\u001b[0m\u001b[0m\n\u001b[1;32m      5\u001b[0m \"\"\"\n",
      "\u001b[0;31mValueError\u001b[0m: attempted relative import beyond top-level package"
     ]
    }
   ],
   "source": [
    "from dynamique_des_populations import Malthus\n",
    "Malthus.interactive_plot(viewer = viewer)"
   ]
  },
  {
   "cell_type": "markdown",
   "metadata": {},
   "source": [
    "#### CHAMP DE VECTEURS D'UNE EDO\n",
    "$\\newcommand{\\R}{{\\mathbb R}}$\n",
    "\n",
    "Soit $f:\\R \\times \\R\\longrightarrow \\R$ une fonction de classe $C^1$ et considérons l'équation différentielle\n",
    "\n",
    "$$\n",
    "(E)\\ \\ \\ \\ \\ \\ \\ y'(t)=f(t,y(t)).\n",
    "$$\n",
    "\n",
    "On remarque que la fonction $y$ est une solution de l'équation si et seulement si le vecteur vitesse de la courbe paramétrée $M:t\\mapsto (t, y(t)$ au point $M(t_0)$ est $M'(t_0) = (1,f(t_0,y(t_0)))$. La définition qui suit est dessous est donc naturelle.\n",
    "\n",
    "On appelle __champ de vecteurs__ associé à $(E)$ l'application de $\\R^2$ dans $\\R^2$ définie par\n",
    "$$\n",
    "V(t,y)=\\big(1,f(t,y)\\Big).\n",
    "$$\n",
    "\n",
    "On représente le champ de vecteurs $V$ en un point $P=(t_0,y_0)$ du plan par une flèche correspondant au segment $[P,P+\\varepsilon V(P)]$, avec $\\varepsilon$ suffisament petit pour que le dessin reste lisible, partant de $P$ et pointant vers $P+\\varepsilon V(P)$.\n"
   ]
  },
  {
   "cell_type": "markdown",
   "metadata": {},
   "source": [
    "#### QUESTION 1\n",
    "\n",
    "Représenter dans un graphe le champ de vecteurs associé à l'équation différentielle du modèle de Malthus pour $r=2$.\n",
    "\n",
    "Superposer à ce graphe plusieurs solutions pour des données initiales différentes.\n",
    "\n",
    "Pensez à rajouter des légendes, des labels pour les axes et un titre à votre graphique.\n",
    "\n"
   ]
  },
  {
   "cell_type": "code",
   "execution_count": null,
   "metadata": {
    "scrolled": false
   },
   "outputs": [],
   "source": [
    "# COMPLETER LE CODE SUIVANT\n",
    "\n",
    "import numpy as np\n",
    "import matplotlib.pyplot as plt\n",
    "\n",
    "rr=...;\n",
    "N_0=...;\n",
    "\n",
    "def f(t,y):\n",
    "    return ...;\n",
    "\n",
    "def N(t,N_0):\n",
    "    return ...;\n",
    "\n",
    "# Commandes pour tracer le champs de vecteur\n",
    "\n",
    "t=np.linspace(0,5,15)\n",
    "y=np.linspace(0,5,15)\n",
    "\n",
    "T,Y=np.meshgrid(t,y)\n",
    "\n",
    "U = np.ones(T.shape)/np.sqrt(1+f(T,Y)**2)\n",
    "V = f(T,Y)/np.sqrt(1+f(T,Y)**2)\n",
    "\n",
    "fig, ax = plt.subplots()\n",
    "ax.quiver(T,Y,U,V,angles='xy')\n",
    "\n",
    "# Superposer les solutions de l'EDO\n",
    "ax.plot(...)\n",
    "\n",
    "plt.title('...')\n",
    "plt.xlabel('...')\n",
    "plt.ylabel('...')\n",
    "plt.legend()"
   ]
  },
  {
   "cell_type": "markdown",
   "metadata": {
    "collapsed": true,
    "nbpresent": {
     "id": "51d5d06f-0c6e-4356-844d-eeba100ee2d4"
    },
    "slideshow": {
     "slide_type": "subslide"
    }
   },
   "source": [
    "### Le modèle de Verhulst\n",
    "\n",
    "<table style=\"width:100%\">\n",
    "    <tr>\n",
    "        <td style=\"text-align:justify\">\n",
    "            _Pierre-François Verhulst_ (né à Bruxelles le 28 octobre 1804 - mort le 15 février 1849 dans cette même ville) est un mathématicien belge. Inspiré par l' « Essai sur le principe de population » de _Thomas Malthus_, il proposa en 1838 le modèle de Verhulst, décrivant l'évolution des populations animales grâce à un modèle qui ne soit pas exponentiel. C'est dans la publication de 1845 qu'il nomme cette courbe « logistique » sans donner l'explication de ce terme.\n",
    "            <br>\n",
    "            Verhulst étudia les mathématiques sous la direction de Quetelet à l'Athénée royal de Bruxelles puis à l'université de Gand. À vingt ans, il remporta le prix scientifique de l'Université de Leyde pour un mémoire sur \\og le problème des maxima et minima \\fg, puis l'année suivante le prix de la Faculté des Sciences de Gand pour un mémoire sur le calcul des variations. Sa thèse, soutenue en 1825, portait sur la résolution des équations binomiales.\n",
    "            <br>\n",
    "            Il retrouva ensuite son maître Quetelet qui l'invita à appliquer ses connaissances mathématiques aux statistiques et à la démographie. Atteint de tuberculose, il partit en convalescence dans les États Pontificaux en 1830. Il donnait quelques conférences au Musée des Sciences de Bruxelles lorsqu'en 1834 il obtint la chaire d’analyse mathématique de l'École royale militaire de Belgique. Cette position financière stable lui permit de s'attaquer à la rédaction d'un Traité des fonctions elliptiques qui ferait la synthèse des recherches menées depuis cinquante ans par Legendre, Abel et Jacobi. L'ouvrage, paru en 1841, fut suivi de son élection à l'Académie des Sciences de Belgique.\n",
    "        </td>\n",
    "        <td width=\"25%\">\n",
    "            <img src=\"images/Pierre_Francois_Verhulst.jpg\", width='100%'>\n",
    "        </td>\n",
    "    </tr>\n",
    "</table>   "
   ]
  },
  {
   "cell_type": "markdown",
   "metadata": {
    "slideshow": {
     "slide_type": "subslide"
    }
   },
   "source": [
    "#### Description du modèle de Verhulst\n",
    "\n",
    "Le __modèle de Verhulst__ est un modèle de croissance proposé par _Pierre François Verhulst_ en 1838 en réponse au modèle de Malthus.\n",
    "\n",
    "Dans ce modèle, le taux de natalité et le taux de mortalité sont des fonctions affines respectivement décroissante et croissante de la taille de la population. Autrement dit, plus la taille de la population augmente, plus son taux de natalité diminue et son taux de mortalité augmente. Verhulst pose d'autre part que, lorsque les populations sont de petites tailles, elles ont tendance à croître.\n",
    "Ce modèle conduit, en temps continu, à une fonction logistique.\n",
    "\n",
    "On écrit l'équation de ce modèle sous la forme\n",
    "\n",
    "$$ N'(t) = r \\; N(t) \\Bigl( 1 - \\frac{N(t)}{K} \\Bigr),$$\n",
    "\n",
    "où $r$ et $K$ sont deux constantes strictement positives : $r$ est le taux de croissance (naissance - mort) et $K$ est la _charge utile_ de l'environnement ou _capacité biotique_. Cette charge utile $K$ dépend de la capacité du milieu en nourriture de soutien.\n",
    "\n",
    "Cette équation différentielle peut être associée à une donnée initiale $N(0)=N_0$."
   ]
  },
  {
   "cell_type": "markdown",
   "metadata": {},
   "source": [
    "La solution du problème de Cauchy associé est \n",
    "\n",
    "$$\n",
    "N(t) = \\frac{K}{1 + \\bigl(\\frac{K}{N_0}-1\\bigr) \\text{e}^{-rt}}, \\qquad t\\geq0. \n",
    "$$\n",
    "\n",
    "Le __modèle de Verhulst__ peut être vu comme une limite du __modèle de croissance logistique__ \n",
    "lorsque le pas de temps $\\Delta t$ tend vers $0$. Nous essayerons dans ce cours de définir \n",
    "les notions nécessaires à la démonstration et à la compréhension de ce résultat."
   ]
  },
  {
   "cell_type": "markdown",
   "metadata": {
    "slideshow": {
     "slide_type": "subslide"
    }
   },
   "source": [
    "#### Représentation de la solution du modèle de Verhulst"
   ]
  },
  {
   "cell_type": "code",
   "execution_count": null,
   "metadata": {
    "collapsed": true,
    "nbpresent": {
     "id": "89cc9dc9-641a-42c3-b837-f41662e6d399"
    },
    "scrolled": false,
    "slideshow": {
     "slide_type": "-"
    }
   },
   "outputs": [],
   "source": [
    "from lib.dynamique_des_populations import Verhulst\n",
    "Verhulst.interactive_plot(viewer = viewer)"
   ]
  },
  {
   "cell_type": "markdown",
   "metadata": {},
   "source": [
    "#### QUESTION 2\n",
    "\n",
    "On fixe les paramètres $r=8$ et $K=2$. Représenter dans le plan $(t,N)$ le champ de vecteurs associé à l'équation différentielle sur $N$.\n",
    "\n",
    "Superposer les graphes de plusieures solutions pour des données initiales différentes.\n"
   ]
  },
  {
   "cell_type": "code",
   "execution_count": null,
   "metadata": {
    "collapsed": true
   },
   "outputs": [],
   "source": [
    "# ECRIRE LE CODE CORRESPONDANT\n",
    "\n",
    "import numpy as np\n",
    "import matplotlib.pyplot as plt\n",
    "\n"
   ]
  },
  {
   "cell_type": "markdown",
   "metadata": {
    "collapsed": true
   },
   "source": [
    "## Résolution approchée\n",
    "\n",
    "Afin de calculer une solution approchée d'un problème de Cauchy, nous pouvons utiliser différents schémas numériques. Nous verrons ultérieurement comment les construire et étudier leurs propriétés.\n",
    "\n",
    "D'une manière générale, la résolution numérique d'une équation différentielle commence par le choix d'un pas de temps $\\Delta t>0$. On chercher ensuite à calculer une solution approchée aux instants $t^n = n\\Delta t$, notée $y^n$ :\n",
    "$$ y^n \\simeq y(t^n).$$\n",
    "\n",
    "On attend d'un schéma numérique pour la résolution d'un problème de Cauchy qu'il soit convergent, c'est-à-dire que la solution approchée converge vers la solution exacte du problème lorsque le pas de temps $\\Delta t$ tend vers $0$."
   ]
  },
  {
   "cell_type": "markdown",
   "metadata": {},
   "source": [
    "### Résolution numérique du problème de Cauchy avec la méthode `odeint`\n",
    "\n",
    "Le méthode `odeint` du package `scipy.integrate` permet de calculer rapidement et aisément une solution approchée d'un problème de Cauchy de la forme :\n",
    "\n",
    "$$\n",
    "\\left\\lbrace\n",
    "\\begin{aligned}\n",
    "&y'(t) = f(t, y(t)), &&t>0,\\\\\n",
    "&y(0) = y_0.\n",
    "\\end{aligned}\n",
    "\\right.\n",
    "$$\n",
    "\n",
    "Voir par exemple :\n",
    "https://docs.scipy.org/doc/scipy/reference/generated/scipy.integrate.odeint.html.\n",
    "\n",
    "Essayons de l'utiliser. Nous commençons par charger tous les packages nécessaires."
   ]
  },
  {
   "cell_type": "code",
   "execution_count": null,
   "metadata": {
    "collapsed": true
   },
   "outputs": [],
   "source": [
    "%matplotlib inline\n",
    "%config InlineBackend.figure_format = 'retina'\n",
    "import numpy as np                       # pour les numpy array\n",
    "from scipy.integrate import odeint       # seulement odeint\n",
    "import matplotlib.pyplot as plt          # librairie graphique"
   ]
  },
  {
   "cell_type": "markdown",
   "metadata": {},
   "source": [
    "#### QUESTION 3\n",
    "\n",
    "Afin d'appliquer la méthode à la résolution du problème de Cauchy qui nous intéresse, définissez la fonction second membre (attention à l'ordre des arguments) :\n",
    "\n",
    "$$ f(t,y) = r \\; y \\Bigl( 1 - \\frac{y}{K} \\Bigr).$$\n"
   ]
  },
  {
   "cell_type": "code",
   "execution_count": null,
   "metadata": {
    "collapsed": true
   },
   "outputs": [],
   "source": [
    "# ECRIRE LE CODE CORRESPONDANT"
   ]
  },
  {
   "cell_type": "markdown",
   "metadata": {},
   "source": [
    "#### QUESTION 4\n",
    "\n",
    "Choisissez un pas de temps $\\Delta t$, un temps final $T_f$ (qui devrait normalement être un multiple de $\\Delta t$) et construisez le vecteur $t = (t^0,\\ldots,t^N)$ des temps discrets où la solution approchée sera calculée.\n",
    "\n",
    "Choisissez également une donnée initiale $N_0$."
   ]
  },
  {
   "cell_type": "code",
   "execution_count": null,
   "metadata": {
    "collapsed": true
   },
   "outputs": [],
   "source": [
    "# ECRIRE LE CODE CORRESPONDANT"
   ]
  },
  {
   "cell_type": "markdown",
   "metadata": {},
   "source": [
    "#### QUESTION 5\n",
    "\n",
    "Construisez la solution approchée à l'aide de la fonction `odeint` et tracez la ainsi que la solution exacte dans une fenêtre graphique. \n",
    "\n",
    "Pour le tracé, choisissez des symboles (un carré et un cercle par exemple) afin de représenter la solution seulement aux points où elle est calculée : l'interpolation linéaire qui est faite ensuite entre les points n'a rien à voir avec la méthode numérique utilisée."
   ]
  },
  {
   "cell_type": "code",
   "execution_count": null,
   "metadata": {
    "collapsed": true
   },
   "outputs": [],
   "source": [
    "# ECRIRE LE CODE CORRESPONDANT"
   ]
  },
  {
   "cell_type": "markdown",
   "metadata": {},
   "source": [
    "## Un modèle plus complexe\n",
    "\n",
    "Il est possible de modifier ce modèle académique afin de prendre en compte des effets du milieu. Prenons l'exemple d'une population d'insectes dont le taux de croissance est élevé pour qui le milieu (ici seulement pris en compte au travers de la capacité biotique) a des propriétés qui varient périodiquement. Nous pouvons penser par exemple au cycle des saisons avec une variation périodique de la température, de la luminosité, de la quantité de végétation disponible...\n",
    "\n",
    "Nous cherchons donc à résoudre le problème suivant\n",
    "$$ N'(t) = r \\; N(t) \\Bigl( 1 - \\frac{N(t)}{K(t)} \\Bigr),$$\n",
    "avec\n",
    "$$K(t) =\\frac{\\overline{K}+\\underline{K}}{2} + \\frac{\\overline{K}-\\underline{K}}{2}\\cos(\\omega t).$$"
   ]
  },
  {
   "cell_type": "markdown",
   "metadata": {},
   "source": [
    "#### QUESTION 6\n",
    "Construire la solution approchée de ce problème à l'aide de la fonction `odeint` et la tracer. On pourra prendre les valeurs suivantes des paramètres : \n",
    "$r=2$, $\\overline{K}= 1.8$, $\\underline{K}=0.7$, $\\omega=1$. \n",
    "\n",
    "Faites varier les valeurs de ces paramètres et commenter les résultats obtenus."
   ]
  },
  {
   "cell_type": "markdown",
   "metadata": {
    "nbpresent": {
     "id": "55aff2bb-bdaa-4c5c-ba2e-bbf4e83f63c7"
    },
    "slideshow": {
     "slide_type": "slide"
    }
   },
   "source": [
    "## Un modèle discret"
   ]
  },
  {
   "cell_type": "markdown",
   "metadata": {
    "slideshow": {
     "slide_type": "subslide"
    }
   },
   "source": [
    "### Modèle de croissance logistique\n",
    "\n",
    "Le modèle de Verhulst peut être considéré sous une forme discrète en temps. L'effectif de la population est alors modélisé par la suite logistique : le solde migratoire est toujours supposé nul ($m=0$) et \n",
    "\n",
    "$$ \n",
    "n - d = r \\, \\Delta t \\, N \\Bigl( 1 - \\frac{N}{K} \\Bigr),\n",
    "$$\n",
    "\n",
    "où $K$ est la capacité biotique et $r$ le taux de croissance de la population. \n",
    "\n",
    "L'évolution de la population est définie par la suite discrète :\n",
    "\n",
    "$$ \n",
    "N_{n+1} \\ = \\ N_n  + r \\, N_n (1- \\frac{N_n}{K}) \\ ,$$\n",
    "\n",
    "pour $N_0\\ge0$ donné.\n"
   ]
  },
  {
   "cell_type": "markdown",
   "metadata": {
    "slideshow": {
     "slide_type": "subslide"
    }
   },
   "source": [
    "#### Etude numérique du modèle de croissance logistique discret"
   ]
  },
  {
   "cell_type": "markdown",
   "metadata": {},
   "source": [
    "En posant $\\mu=r+1$ et $u_{n}=\\frac{r}{\\mu K} \\ N_{n}$, on se ramène à la suite récurrente \n",
    "\n",
    "$$\n",
    "u_{n+1}=f_{\\mu}(u_{n}),\n",
    "$$ \n",
    "où\n",
    "\n",
    "$$\n",
    "f_{\\mu}(x) \\ = \\ \\mu \\, x \\, (1-x) \\ .\n",
    "$$\n",
    "\n",
    "Cela nous ramène à l'étude du comportement de la suite $(u_{n})$ pour $\\mu \\in \\, ]1,4]$."
   ]
  },
  {
   "cell_type": "markdown",
   "metadata": {},
   "source": [
    "#### QUESTION 7\n",
    "\n",
    "Posons \n",
    "\n",
    "$$l=\\frac{\\mu-1}{\\mu} \\, .$$\n",
    "\n",
    "Vérifier que $u_{n} = l$ correspond à $N_{n}=K$.\n",
    "\n",
    "Nous supposerons que $u_{0} \\in \\, ]0,1]$, de sorte que la donnée initiale $N_{0}$ soit non nulle et $N_{n}\\ge0$ pour $n>0$."
   ]
  },
  {
   "cell_type": "markdown",
   "metadata": {},
   "source": [
    "#### QUESTION 8\n",
    "\n",
    "Observer le comportement asymptotique de la suite $(u_n)$ pour $\\mu=2.5$ et pour plusieurs valeurs différentes de la donnée initiale $u_0$. Afficher sur le même graphique les valeurs de $u_{n}$ en fonction de $n$ (pour $n$ variant entre $0$ et $40$) pour chacune des différentes données initales. Recommencer pour d'autres valeurs de $\\mu$ inférieures ou égales à $3$. Attention à bien adapter le nombre d'itérations à effectuer et à visualiser, afin d'observer correctement le comportement asymptotique de la suite. Conclure. \n"
   ]
  },
  {
   "cell_type": "markdown",
   "metadata": {},
   "source": [
    "#### QUESTION 9\n",
    "\n",
    "Faire de meme pour des valeurs de $\\mu$ strictement comprises entre $3$ et $3.449$. Conclure.\n"
   ]
  },
  {
   "cell_type": "markdown",
   "metadata": {},
   "source": [
    "#### QUESTION 10\n",
    "\n",
    "Faire de même pour des valeurs de $\\mu$ strictement comprises entre $3.449$ et $3.57$. Conclure."
   ]
  },
  {
   "cell_type": "markdown",
   "metadata": {},
   "source": [
    "#### QUESTION 11\n",
    "\n",
    "Que se passe-t-il lorsque $\\mu>3.57$ ? Observer particulièrement le cas $\\mu=3.8$. Comparer le comportement de la suite pour différentes valeurs de la donnée initiale.\n"
   ]
  }
 ],
 "metadata": {
  "anaconda-cloud": {},
  "celltoolbar": "Format de la Cellule Texte Brut",
  "kernelspec": {
   "display_name": "Python 3",
   "language": "python",
   "name": "python3"
  },
  "language_info": {
   "codemirror_mode": {
    "name": "ipython",
    "version": 3
   },
   "file_extension": ".py",
   "mimetype": "text/x-python",
   "name": "python",
   "nbconvert_exporter": "python",
   "pygments_lexer": "ipython3",
   "version": "3.7.6"
  },
  "latex_envs": {
   "LaTeX_envs_menu_present": true,
   "autocomplete": true,
   "bibliofile": "biblio.bib",
   "cite_by": "apalike",
   "current_citInitial": 1,
   "eqLabelWithNumbers": true,
   "eqNumInitial": 1,
   "hotkeys": {
    "equation": "Ctrl-E",
    "itemize": "Ctrl-I"
   },
   "labels_anchors": true,
   "latex_user_defs": false,
   "report_style_numbering": false,
   "user_envs_cfg": true
  },
  "livereveal": {
   "autolaunch": true,
   "footer": "",
   "header": "<h4>M209 - Dynamique des populations</h4>",
   "scroll": true,
   "theme": "sky",
   "transition": "convex"
  },
  "nbpresent": {
   "slides": {
    "1d19efff-ca23-4411-a28d-0acfe8b0a21f": {
     "id": "1d19efff-ca23-4411-a28d-0acfe8b0a21f",
     "prev": null,
     "regions": {
      "ce0660fc-2126-4fc1-af82-924604c460c9": {
       "attrs": {
        "height": 0.8,
        "width": 0.8,
        "x": 0.1,
        "y": 0.1
       },
       "content": {
        "cell": "91de52c2-c2c7-499f-8a66-d7d7201835fa",
        "part": "whole"
       },
       "id": "ce0660fc-2126-4fc1-af82-924604c460c9"
      }
     }
    },
    "4b687039-6844-41e3-a2b7-e4383f0cd404": {
     "id": "4b687039-6844-41e3-a2b7-e4383f0cd404",
     "prev": "1d19efff-ca23-4411-a28d-0acfe8b0a21f",
     "regions": {
      "4d7e4ca1-0dc1-4baa-aee1-858aded88138": {
       "attrs": {
        "height": 0.8,
        "width": 0.8,
        "x": 0.1,
        "y": 0.1
       },
       "content": {
        "cell": "55aff2bb-bdaa-4c5c-ba2e-bbf4e83f63c7",
        "part": "whole"
       },
       "id": "4d7e4ca1-0dc1-4baa-aee1-858aded88138"
      }
     }
    },
    "795524dc-81d3-4604-8482-a4190b0fa9a8": {
     "id": "795524dc-81d3-4604-8482-a4190b0fa9a8",
     "prev": "a7009650-63e6-4dab-b943-fa2793414400",
     "regions": {
      "1681ba9b-a113-47bd-8b3e-4896d7147602": {
       "attrs": {
        "height": 0.8,
        "width": 0.8,
        "x": 0.1,
        "y": 0.1
       },
       "content": {
        "cell": "282cf50f-1e0c-49a9-bad8-342ec14cae5d",
        "part": "whole"
       },
       "id": "1681ba9b-a113-47bd-8b3e-4896d7147602"
      }
     }
    },
    "a7009650-63e6-4dab-b943-fa2793414400": {
     "id": "a7009650-63e6-4dab-b943-fa2793414400",
     "prev": "4b687039-6844-41e3-a2b7-e4383f0cd404",
     "regions": {
      "93073f47-71b4-407a-aca0-816e24070974": {
       "attrs": {
        "height": 0.8,
        "width": 0.8,
        "x": 0.1,
        "y": 0.1
       },
       "content": {
        "cell": "8d57688c-3605-4554-9273-2652b8f7594b",
        "part": "whole"
       },
       "id": "93073f47-71b4-407a-aca0-816e24070974"
      }
     }
    },
    "a94ea374-e922-483e-9643-233609149bf4": {
     "id": "a94ea374-e922-483e-9643-233609149bf4",
     "prev": "c3e8624c-5445-4710-ad30-3caf4bc545d7",
     "regions": {
      "52169aa9-d0f1-4006-96ed-f75c2fb97aa7": {
       "attrs": {
        "height": 0.8,
        "width": 0.8,
        "x": 0.1,
        "y": 0.1
       },
       "content": {
        "cell": "51d5d06f-0c6e-4356-844d-eeba100ee2d4",
        "part": "whole"
       },
       "id": "52169aa9-d0f1-4006-96ed-f75c2fb97aa7"
      }
     }
    },
    "c3e8624c-5445-4710-ad30-3caf4bc545d7": {
     "id": "c3e8624c-5445-4710-ad30-3caf4bc545d7",
     "prev": "795524dc-81d3-4604-8482-a4190b0fa9a8",
     "regions": {
      "38b9f09d-b6e0-4ae7-a8d4-723e567bd7ec": {
       "attrs": {
        "height": 0.8,
        "width": 0.8,
        "x": 0.1,
        "y": 0.1
       },
       "content": {
        "cell": "ef1d8596-ba87-4d96-9bb1-ba6cef56e3aa",
        "part": "whole"
       },
       "id": "38b9f09d-b6e0-4ae7-a8d4-723e567bd7ec"
      }
     }
    },
    "ca7dee26-42ee-4f31-a1ed-3190d08ac48d": {
     "id": "ca7dee26-42ee-4f31-a1ed-3190d08ac48d",
     "prev": "a94ea374-e922-483e-9643-233609149bf4",
     "regions": {
      "1ab5f88b-0f70-4a57-854f-94e18e52fc1f": {
       "attrs": {
        "height": 0.8,
        "width": 0.8,
        "x": 0.1,
        "y": 0.1
       },
       "content": {
        "cell": "89cc9dc9-641a-42c3-b837-f41662e6d399",
        "part": "whole"
       },
       "id": "1ab5f88b-0f70-4a57-854f-94e18e52fc1f"
      }
     }
    }
   },
   "themes": {
    "default": "132562bd-29cc-4ad2-afd0-604b8efa68b3",
    "theme": {}
   }
  },
  "widgets": {
   "state": {
    "42bfba21ec824ea2abaa4537c857de48": {
     "views": [
      {
       "cell_index": 3
      }
     ]
    },
    "69e2f1e5d30e4d6db5ddbca6d62a747f": {
     "views": [
      {
       "cell_index": 3
      }
     ]
    },
    "d3e34dfcdbcd425d9d10d77fd1c2ae84": {
     "views": [
      {
       "cell_index": 3
      }
     ]
    }
   },
   "version": "1.2.0"
  }
 },
 "nbformat": 4,
 "nbformat_minor": 1
}
